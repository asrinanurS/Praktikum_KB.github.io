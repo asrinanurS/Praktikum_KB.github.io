{
 "cells": [
  {
   "cell_type": "code",
   "execution_count": 1,
   "id": "8f0853f7",
   "metadata": {},
   "outputs": [],
   "source": [
    "import pandas as pd"
   ]
  },
  {
   "cell_type": "code",
   "execution_count": 2,
   "id": "61839c82",
   "metadata": {},
   "outputs": [],
   "source": [
    "import numpy as np"
   ]
  },
  {
   "cell_type": "code",
   "execution_count": 3,
   "id": "e74a3257",
   "metadata": {},
   "outputs": [],
   "source": [
    "from tabulate import tabulate"
   ]
  },
  {
   "cell_type": "code",
   "execution_count": 4,
   "id": "22615993",
   "metadata": {},
   "outputs": [
    {
     "data": {
      "text/html": [
       "<div>\n",
       "<style scoped>\n",
       "    .dataframe tbody tr th:only-of-type {\n",
       "        vertical-align: middle;\n",
       "    }\n",
       "\n",
       "    .dataframe tbody tr th {\n",
       "        vertical-align: top;\n",
       "    }\n",
       "\n",
       "    .dataframe thead th {\n",
       "        text-align: right;\n",
       "    }\n",
       "</style>\n",
       "<table border=\"1\" class=\"dataframe\">\n",
       "  <thead>\n",
       "    <tr style=\"text-align: right;\">\n",
       "      <th></th>\n",
       "      <th>Unnamed: 0</th>\n",
       "      <th>title</th>\n",
       "      <th>rating</th>\n",
       "      <th>name</th>\n",
       "      <th>num_ratings</th>\n",
       "      <th>num_reviews</th>\n",
       "      <th>num_followers</th>\n",
       "      <th>synopsis</th>\n",
       "      <th>genre</th>\n",
       "    </tr>\n",
       "  </thead>\n",
       "  <tbody>\n",
       "    <tr>\n",
       "      <th>0</th>\n",
       "      <td>0</td>\n",
       "      <td>Sapiens: A Brief History of Humankind</td>\n",
       "      <td>4.39</td>\n",
       "      <td>Yuval Noah Harari</td>\n",
       "      <td>8,06,229</td>\n",
       "      <td>46,149</td>\n",
       "      <td>30.5k</td>\n",
       "      <td>100,000 years ago, at least six human species ...</td>\n",
       "      <td>history</td>\n",
       "    </tr>\n",
       "    <tr>\n",
       "      <th>1</th>\n",
       "      <td>1</td>\n",
       "      <td>Guns, Germs, and Steel: The Fates of Human Soc...</td>\n",
       "      <td>4.04</td>\n",
       "      <td>Jared Diamond</td>\n",
       "      <td>3,67,056</td>\n",
       "      <td>12,879</td>\n",
       "      <td>6,538</td>\n",
       "      <td>\"Diamond has written a book of remarkable scop...</td>\n",
       "      <td>history</td>\n",
       "    </tr>\n",
       "    <tr>\n",
       "      <th>2</th>\n",
       "      <td>2</td>\n",
       "      <td>A People's History of the United States</td>\n",
       "      <td>4.07</td>\n",
       "      <td>Howard Zinn</td>\n",
       "      <td>2,24,620</td>\n",
       "      <td>6,509</td>\n",
       "      <td>2,354</td>\n",
       "      <td>In the book, Zinn presented a different side o...</td>\n",
       "      <td>history</td>\n",
       "    </tr>\n",
       "    <tr>\n",
       "      <th>3</th>\n",
       "      <td>3</td>\n",
       "      <td>The Devil in the White City: Murder, Magic, an...</td>\n",
       "      <td>3.99</td>\n",
       "      <td>Erik Larson</td>\n",
       "      <td>6,13,157</td>\n",
       "      <td>36,644</td>\n",
       "      <td>64.2k</td>\n",
       "      <td>Author Erik Larson imbues the incredible event...</td>\n",
       "      <td>history</td>\n",
       "    </tr>\n",
       "    <tr>\n",
       "      <th>4</th>\n",
       "      <td>4</td>\n",
       "      <td>The Diary of a Young Girl</td>\n",
       "      <td>4.18</td>\n",
       "      <td>Anne Frank</td>\n",
       "      <td>33,13,033</td>\n",
       "      <td>35,591</td>\n",
       "      <td>4,621</td>\n",
       "      <td>Discovered in the attic in which she spent the...</td>\n",
       "      <td>history</td>\n",
       "    </tr>\n",
       "    <tr>\n",
       "      <th>...</th>\n",
       "      <td>...</td>\n",
       "      <td>...</td>\n",
       "      <td>...</td>\n",
       "      <td>...</td>\n",
       "      <td>...</td>\n",
       "      <td>...</td>\n",
       "      <td>...</td>\n",
       "      <td>...</td>\n",
       "      <td>...</td>\n",
       "    </tr>\n",
       "    <tr>\n",
       "      <th>1534</th>\n",
       "      <td>1534</td>\n",
       "      <td>Hounded</td>\n",
       "      <td>4.09</td>\n",
       "      <td>Kevin Hearne</td>\n",
       "      <td>83,827</td>\n",
       "      <td>7,203</td>\n",
       "      <td>11,905</td>\n",
       "      <td>Atticus O’Sullivan, last of the Druids, lives ...</td>\n",
       "      <td>fantasy</td>\n",
       "    </tr>\n",
       "    <tr>\n",
       "      <th>1535</th>\n",
       "      <td>1535</td>\n",
       "      <td>Charlie and the Chocolate Factory</td>\n",
       "      <td>4.15</td>\n",
       "      <td>Roald Dahl</td>\n",
       "      <td>7,75,001</td>\n",
       "      <td>14,252</td>\n",
       "      <td>22,897</td>\n",
       "      <td>Charlie Bucket's wonderful adventure begins wh...</td>\n",
       "      <td>fantasy</td>\n",
       "    </tr>\n",
       "    <tr>\n",
       "      <th>1536</th>\n",
       "      <td>1536</td>\n",
       "      <td>Red Rising</td>\n",
       "      <td>4.25</td>\n",
       "      <td>Pierce Brown</td>\n",
       "      <td>3,10,138</td>\n",
       "      <td>30,388</td>\n",
       "      <td>30,510</td>\n",
       "      <td>\"I live for the dream that my children will be...</td>\n",
       "      <td>fantasy</td>\n",
       "    </tr>\n",
       "    <tr>\n",
       "      <th>1537</th>\n",
       "      <td>1537</td>\n",
       "      <td>Frostbite</td>\n",
       "      <td>4.26</td>\n",
       "      <td>Richelle Mead</td>\n",
       "      <td>3,37,538</td>\n",
       "      <td>12,435</td>\n",
       "      <td>66,448</td>\n",
       "      <td>Rose loves Dimitri, Dimitri might love Tasha, ...</td>\n",
       "      <td>fantasy</td>\n",
       "    </tr>\n",
       "    <tr>\n",
       "      <th>1538</th>\n",
       "      <td>1538</td>\n",
       "      <td>Radiance</td>\n",
       "      <td>4.03</td>\n",
       "      <td>Grace Draven</td>\n",
       "      <td>50,102</td>\n",
       "      <td>5,550</td>\n",
       "      <td>6,090</td>\n",
       "      <td>The Prince of no value\\nBrishen Khaskem, princ...</td>\n",
       "      <td>fantasy</td>\n",
       "    </tr>\n",
       "  </tbody>\n",
       "</table>\n",
       "<p>1539 rows × 9 columns</p>\n",
       "</div>"
      ],
      "text/plain": [
       "      Unnamed: 0                                              title  rating  \\\n",
       "0              0              Sapiens: A Brief History of Humankind    4.39   \n",
       "1              1  Guns, Germs, and Steel: The Fates of Human Soc...    4.04   \n",
       "2              2            A People's History of the United States    4.07   \n",
       "3              3  The Devil in the White City: Murder, Magic, an...    3.99   \n",
       "4              4                          The Diary of a Young Girl    4.18   \n",
       "...          ...                                                ...     ...   \n",
       "1534        1534                                            Hounded    4.09   \n",
       "1535        1535                  Charlie and the Chocolate Factory    4.15   \n",
       "1536        1536                                         Red Rising    4.25   \n",
       "1537        1537                                          Frostbite    4.26   \n",
       "1538        1538                                           Radiance    4.03   \n",
       "\n",
       "                   name num_ratings num_reviews num_followers  \\\n",
       "0     Yuval Noah Harari    8,06,229      46,149         30.5k   \n",
       "1         Jared Diamond    3,67,056      12,879         6,538   \n",
       "2           Howard Zinn    2,24,620       6,509         2,354   \n",
       "3           Erik Larson    6,13,157      36,644         64.2k   \n",
       "4            Anne Frank   33,13,033      35,591         4,621   \n",
       "...                 ...         ...         ...           ...   \n",
       "1534       Kevin Hearne      83,827       7,203        11,905   \n",
       "1535         Roald Dahl    7,75,001      14,252        22,897   \n",
       "1536       Pierce Brown    3,10,138      30,388        30,510   \n",
       "1537      Richelle Mead    3,37,538      12,435        66,448   \n",
       "1538       Grace Draven      50,102       5,550         6,090   \n",
       "\n",
       "                                               synopsis    genre  \n",
       "0     100,000 years ago, at least six human species ...  history  \n",
       "1     \"Diamond has written a book of remarkable scop...  history  \n",
       "2     In the book, Zinn presented a different side o...  history  \n",
       "3     Author Erik Larson imbues the incredible event...  history  \n",
       "4     Discovered in the attic in which she spent the...  history  \n",
       "...                                                 ...      ...  \n",
       "1534  Atticus O’Sullivan, last of the Druids, lives ...  fantasy  \n",
       "1535  Charlie Bucket's wonderful adventure begins wh...  fantasy  \n",
       "1536  \"I live for the dream that my children will be...  fantasy  \n",
       "1537  Rose loves Dimitri, Dimitri might love Tasha, ...  fantasy  \n",
       "1538  The Prince of no value\\nBrishen Khaskem, princ...  fantasy  \n",
       "\n",
       "[1539 rows x 9 columns]"
      ]
     },
     "execution_count": 4,
     "metadata": {},
     "output_type": "execute_result"
    }
   ],
   "source": [
    "dataset = pd.read_csv('data.csv')\n",
    "dataset"
   ]
  },
  {
   "cell_type": "code",
   "execution_count": 5,
   "id": "5d91a741",
   "metadata": {},
   "outputs": [
    {
     "name": "stdout",
     "output_type": "stream",
     "text": [
      "<class 'pandas.core.frame.DataFrame'>\n",
      "RangeIndex: 1539 entries, 0 to 1538\n",
      "Data columns (total 9 columns):\n",
      " #   Column         Non-Null Count  Dtype  \n",
      "---  ------         --------------  -----  \n",
      " 0   Unnamed: 0     1539 non-null   int64  \n",
      " 1   title          1539 non-null   object \n",
      " 2   rating         1539 non-null   float64\n",
      " 3   name           1539 non-null   object \n",
      " 4   num_ratings    1539 non-null   object \n",
      " 5   num_reviews    1539 non-null   object \n",
      " 6   num_followers  1539 non-null   object \n",
      " 7   synopsis       1539 non-null   object \n",
      " 8   genre          1539 non-null   object \n",
      "dtypes: float64(1), int64(1), object(7)\n",
      "memory usage: 108.3+ KB\n"
     ]
    }
   ],
   "source": [
    "dataset.info()"
   ]
  },
  {
   "cell_type": "code",
   "execution_count": 6,
   "id": "6ddeb9f0",
   "metadata": {},
   "outputs": [
    {
     "name": "stdout",
     "output_type": "stream",
     "text": [
      "jumlah record 1539\n"
     ]
    }
   ],
   "source": [
    "jumlah_record = len(dataset.index)\n",
    "print(\"jumlah record\", jumlah_record)"
   ]
  },
  {
   "cell_type": "code",
   "execution_count": 7,
   "id": "5e0d8af5",
   "metadata": {},
   "outputs": [
    {
     "name": "stdout",
     "output_type": "stream",
     "text": [
      "nama atribut :\n",
      " Unnamed: 0\n",
      "title\n",
      "rating\n",
      "name\n",
      "num_ratings\n",
      "num_reviews\n",
      "num_followers\n",
      "synopsis\n",
      "genre\n"
     ]
    }
   ],
   "source": [
    "Data_Atribut = list(dataset.columns)\n",
    "Nama_Atribut = \"\\n\".join(Data_Atribut)\n",
    "print(\"nama atribut :\\n\", Nama_Atribut)"
   ]
  },
  {
   "cell_type": "code",
   "execution_count": 9,
   "id": "4d1faeb4",
   "metadata": {},
   "outputs": [
    {
     "name": "stdout",
     "output_type": "stream",
     "text": [
      "jumlah atribut dengan tipe objek = 7\n"
     ]
    }
   ],
   "source": [
    "Objek = len(dataset.dtypes[dataset.dtypes == 'object'])\n",
    "print(\"jumlah atribut dengan tipe objek =\", Objek)"
   ]
  },
  {
   "cell_type": "code",
   "execution_count": 10,
   "id": "c3c86d30",
   "metadata": {},
   "outputs": [
    {
     "name": "stdout",
     "output_type": "stream",
     "text": [
      "jumlah atribut dengan tipe angka = 2\n"
     ]
    }
   ],
   "source": [
    "Int = len(dataset.dtypes[dataset.dtypes == 'int64'])\n",
    "Float = len(dataset.dtypes[dataset.dtypes == 'float64'])\n",
    "Angka = Int + Float\n",
    "print(\"jumlah atribut dengan tipe angka =\", Angka)"
   ]
  },
  {
   "cell_type": "code",
   "execution_count": 11,
   "id": "68698d04",
   "metadata": {},
   "outputs": [
    {
     "name": "stdout",
     "output_type": "stream",
     "text": [
      "jumlah atribut yang memiliki nilai null = 0\n"
     ]
    }
   ],
   "source": [
    "Null = dataset.isnull().any().sum()\n",
    "print(\"jumlah atribut yang memiliki nilai null =\", Null)"
   ]
  },
  {
   "cell_type": "code",
   "execution_count": 16,
   "id": "414d2fbc",
   "metadata": {},
   "outputs": [
    {
     "name": "stdout",
     "output_type": "stream",
     "text": [
      "+-----------------+----------------+-----------------------+----------------------+----------------------+\n",
      "|   Jumlah Record | Nama Atribut   |   Atribut Tipe Object |   Atribut Tipe Angka |   Atribut Nilai Null |\n",
      "|-----------------+----------------+-----------------------+----------------------+----------------------|\n",
      "|            1539 | Unnamed: 0     |                     7 |                    2 |                    0 |\n",
      "|                 | title          |                       |                      |                      |\n",
      "|                 | rating         |                       |                      |                      |\n",
      "|                 | name           |                       |                      |                      |\n",
      "|                 | num_ratings    |                       |                      |                      |\n",
      "|                 | num_reviews    |                       |                      |                      |\n",
      "|                 | num_followers  |                       |                      |                      |\n",
      "|                 | synopsis       |                       |                      |                      |\n",
      "|                 | genre          |                       |                      |                      |\n",
      "+-----------------+----------------+-----------------------+----------------------+----------------------+\n"
     ]
    }
   ],
   "source": [
    "Dict = {\n",
    "    \"Jumlah Record\"        : [jumlah_record],\n",
    "    \"Nama Atribut\"         : [Nama_Atribut],\n",
    "    \"Atribut Tipe Object\"  : [Objek],\n",
    "    \"Atribut Tipe Angka\"   : [Angka],\n",
    "    \"Atribut Nilai Null\"    : [Null],\n",
    "}\n",
    "tabel = pd.DataFrame(Dict)\n",
    "print(tabulate(tabel, headers='keys', tablefmt='psql', showindex=False))"
   ]
  },
  {
   "cell_type": "code",
   "execution_count": 18,
   "id": "ecab2e75",
   "metadata": {},
   "outputs": [
    {
     "data": {
      "text/html": [
       "<div>\n",
       "<style scoped>\n",
       "    .dataframe tbody tr th:only-of-type {\n",
       "        vertical-align: middle;\n",
       "    }\n",
       "\n",
       "    .dataframe tbody tr th {\n",
       "        vertical-align: top;\n",
       "    }\n",
       "\n",
       "    .dataframe thead th {\n",
       "        text-align: right;\n",
       "    }\n",
       "</style>\n",
       "<table border=\"1\" class=\"dataframe\">\n",
       "  <thead>\n",
       "    <tr style=\"text-align: right;\">\n",
       "      <th></th>\n",
       "      <th>Unnamed: 0</th>\n",
       "      <th>rating</th>\n",
       "    </tr>\n",
       "  </thead>\n",
       "  <tbody>\n",
       "    <tr>\n",
       "      <th>Jumlah Data</th>\n",
       "      <td>1539.000000</td>\n",
       "      <td>1539.000000</td>\n",
       "    </tr>\n",
       "    <tr>\n",
       "      <th>mean</th>\n",
       "      <td>769.000000</td>\n",
       "      <td>4.037518</td>\n",
       "    </tr>\n",
       "    <tr>\n",
       "      <th>Standar Deviasi</th>\n",
       "      <td>444.415346</td>\n",
       "      <td>0.225939</td>\n",
       "    </tr>\n",
       "    <tr>\n",
       "      <th>min</th>\n",
       "      <td>0.000000</td>\n",
       "      <td>2.780000</td>\n",
       "    </tr>\n",
       "    <tr>\n",
       "      <th>Q1</th>\n",
       "      <td>384.500000</td>\n",
       "      <td>3.905000</td>\n",
       "    </tr>\n",
       "    <tr>\n",
       "      <th>Q2</th>\n",
       "      <td>769.000000</td>\n",
       "      <td>4.050000</td>\n",
       "    </tr>\n",
       "    <tr>\n",
       "      <th>Q3</th>\n",
       "      <td>1153.500000</td>\n",
       "      <td>4.180000</td>\n",
       "    </tr>\n",
       "    <tr>\n",
       "      <th>max</th>\n",
       "      <td>1538.000000</td>\n",
       "      <td>4.750000</td>\n",
       "    </tr>\n",
       "  </tbody>\n",
       "</table>\n",
       "</div>"
      ],
      "text/plain": [
       "                  Unnamed: 0       rating\n",
       "Jumlah Data      1539.000000  1539.000000\n",
       "mean              769.000000     4.037518\n",
       "Standar Deviasi   444.415346     0.225939\n",
       "min                 0.000000     2.780000\n",
       "Q1                384.500000     3.905000\n",
       "Q2                769.000000     4.050000\n",
       "Q3               1153.500000     4.180000\n",
       "max              1538.000000     4.750000"
      ]
     },
     "execution_count": 18,
     "metadata": {},
     "output_type": "execute_result"
    }
   ],
   "source": [
    "desc = dataset.describe()\n",
    "desc.rename(index = {\"count\": \"Jumlah Data\", \"Mean\": \"Rata-rata\", \"std\": \"Standar Deviasi\", \"Min\": \"Nilai Minimum\", \"25%\": \"Q1\", \"50%\": \"Q2\", \"75%\": \"Q3\", \"Max\": \"Nilai Maksimal\"}, inplace = True)\n",
    "desc"
   ]
  },
  {
   "cell_type": "code",
   "execution_count": 22,
   "id": "27a3a340",
   "metadata": {},
   "outputs": [
    {
     "data": {
      "text/html": [
       "<div>\n",
       "<style scoped>\n",
       "    .dataframe tbody tr th:only-of-type {\n",
       "        vertical-align: middle;\n",
       "    }\n",
       "\n",
       "    .dataframe tbody tr th {\n",
       "        vertical-align: top;\n",
       "    }\n",
       "\n",
       "    .dataframe thead th {\n",
       "        text-align: right;\n",
       "    }\n",
       "</style>\n",
       "<table border=\"1\" class=\"dataframe\">\n",
       "  <thead>\n",
       "    <tr style=\"text-align: right;\">\n",
       "      <th></th>\n",
       "      <th>Unnamed: 0</th>\n",
       "      <th>rating</th>\n",
       "    </tr>\n",
       "  </thead>\n",
       "  <tbody>\n",
       "    <tr>\n",
       "      <th>Unnamed: 0</th>\n",
       "      <td>1.000000</td>\n",
       "      <td>0.065867</td>\n",
       "    </tr>\n",
       "    <tr>\n",
       "      <th>rating</th>\n",
       "      <td>0.065867</td>\n",
       "      <td>1.000000</td>\n",
       "    </tr>\n",
       "  </tbody>\n",
       "</table>\n",
       "</div>"
      ],
      "text/plain": [
       "            Unnamed: 0    rating\n",
       "Unnamed: 0    1.000000  0.065867\n",
       "rating        0.065867  1.000000"
      ]
     },
     "execution_count": 22,
     "metadata": {},
     "output_type": "execute_result"
    }
   ],
   "source": [
    "dataset.corr()"
   ]
  },
  {
   "cell_type": "code",
   "execution_count": 35,
   "id": "2dd9b86f",
   "metadata": {},
   "outputs": [
    {
     "data": {
      "text/plain": [
       "0       0.00439\n",
       "1       0.00404\n",
       "2       0.00407\n",
       "3       0.00399\n",
       "4       0.00418\n",
       "         ...   \n",
       "1534    0.00409\n",
       "1535    0.00415\n",
       "1536    0.00425\n",
       "1537    0.00426\n",
       "1538    0.00403\n",
       "Name: rating, Length: 1539, dtype: float64"
      ]
     },
     "execution_count": 35,
     "metadata": {},
     "output_type": "execute_result"
    }
   ],
   "source": [
    "dataset['rating']*0.001"
   ]
  },
  {
   "cell_type": "code",
   "execution_count": 26,
   "id": "79426fac",
   "metadata": {},
   "outputs": [
    {
     "data": {
      "text/html": [
       "<div>\n",
       "<style scoped>\n",
       "    .dataframe tbody tr th:only-of-type {\n",
       "        vertical-align: middle;\n",
       "    }\n",
       "\n",
       "    .dataframe tbody tr th {\n",
       "        vertical-align: top;\n",
       "    }\n",
       "\n",
       "    .dataframe thead th {\n",
       "        text-align: right;\n",
       "    }\n",
       "</style>\n",
       "<table border=\"1\" class=\"dataframe\">\n",
       "  <thead>\n",
       "    <tr style=\"text-align: right;\">\n",
       "      <th></th>\n",
       "      <th>Unnamed: 0</th>\n",
       "      <th>rating</th>\n",
       "    </tr>\n",
       "  </thead>\n",
       "  <tbody>\n",
       "    <tr>\n",
       "      <th>0</th>\n",
       "      <td>0</td>\n",
       "      <td>4.39</td>\n",
       "    </tr>\n",
       "    <tr>\n",
       "      <th>1</th>\n",
       "      <td>1</td>\n",
       "      <td>4.04</td>\n",
       "    </tr>\n",
       "    <tr>\n",
       "      <th>2</th>\n",
       "      <td>2</td>\n",
       "      <td>4.07</td>\n",
       "    </tr>\n",
       "    <tr>\n",
       "      <th>3</th>\n",
       "      <td>3</td>\n",
       "      <td>3.99</td>\n",
       "    </tr>\n",
       "    <tr>\n",
       "      <th>4</th>\n",
       "      <td>4</td>\n",
       "      <td>4.18</td>\n",
       "    </tr>\n",
       "    <tr>\n",
       "      <th>5</th>\n",
       "      <td>5</td>\n",
       "      <td>4.08</td>\n",
       "    </tr>\n",
       "    <tr>\n",
       "      <th>6</th>\n",
       "      <td>6</td>\n",
       "      <td>4.20</td>\n",
       "    </tr>\n",
       "    <tr>\n",
       "      <th>7</th>\n",
       "      <td>7</td>\n",
       "      <td>4.18</td>\n",
       "    </tr>\n",
       "    <tr>\n",
       "      <th>8</th>\n",
       "      <td>8</td>\n",
       "      <td>4.03</td>\n",
       "    </tr>\n",
       "    <tr>\n",
       "      <th>9</th>\n",
       "      <td>9</td>\n",
       "      <td>4.03</td>\n",
       "    </tr>\n",
       "  </tbody>\n",
       "</table>\n",
       "</div>"
      ],
      "text/plain": [
       "   Unnamed: 0  rating\n",
       "0           0    4.39\n",
       "1           1    4.04\n",
       "2           2    4.07\n",
       "3           3    3.99\n",
       "4           4    4.18\n",
       "5           5    4.08\n",
       "6           6    4.20\n",
       "7           7    4.18\n",
       "8           8    4.03\n",
       "9           9    4.03"
      ]
     },
     "execution_count": 26,
     "metadata": {},
     "output_type": "execute_result"
    }
   ],
   "source": [
    "numerics =['int64', 'float64']\n",
    "number = dataset.select_dtypes(include=numerics).copy()\n",
    "number.head(10)"
   ]
  },
  {
   "cell_type": "code",
   "execution_count": 36,
   "id": "436f41e4",
   "metadata": {},
   "outputs": [],
   "source": [
    "number.to_csv('data.csv')"
   ]
  },
  {
   "cell_type": "code",
   "execution_count": null,
   "id": "0056c06f",
   "metadata": {},
   "outputs": [],
   "source": []
  },
  {
   "cell_type": "code",
   "execution_count": null,
   "id": "b3caf0ea",
   "metadata": {},
   "outputs": [],
   "source": []
  }
 ],
 "metadata": {
  "kernelspec": {
   "display_name": "Python 3 (ipykernel)",
   "language": "python",
   "name": "python3"
  },
  "language_info": {
   "codemirror_mode": {
    "name": "ipython",
    "version": 3
   },
   "file_extension": ".py",
   "mimetype": "text/x-python",
   "name": "python",
   "nbconvert_exporter": "python",
   "pygments_lexer": "ipython3",
   "version": "3.9.5"
  }
 },
 "nbformat": 4,
 "nbformat_minor": 5
}
