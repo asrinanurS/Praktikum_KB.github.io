{
 "cells": [
  {
   "cell_type": "markdown",
   "metadata": {},
   "source": [
    "Asrina Nur Syahbani\n",
    "2009106131\n",
    "KB C2 20"
   ]
  },
  {
   "cell_type": "code",
   "execution_count": 1,
   "metadata": {},
   "outputs": [],
   "source": [
    "\n",
    "import pandas as pd\n",
    "import numpy as np  \n",
    "import matplotlib.pyplot as plt\n",
    "import tensorflow as tf\n"
   ]
  },
  {
   "cell_type": "markdown",
   "metadata": {},
   "source": [
    "shape (5,5) random"
   ]
  },
  {
   "cell_type": "code",
   "execution_count": 2,
   "metadata": {},
   "outputs": [
    {
     "data": {
      "text/plain": [
       "<tf.Tensor: shape=(5, 5), dtype=float32, numpy=\n",
       "array([[3.3384104 , 1.221931  , 2.1035073 , 2.1723769 , 2.772706  ],\n",
       "       [2.9361506 , 1.1205623 , 0.8979665 , 0.72805583, 3.5150363 ],\n",
       "       [2.868432  , 0.81996703, 3.0853825 , 1.8157849 , 1.952685  ],\n",
       "       [2.0883179 , 1.6893274 , 1.977207  , 2.4740167 , 2.9291773 ],\n",
       "       [2.6120121 , 3.1373436 , 3.0214229 , 2.281504  , 2.264393  ]],\n",
       "      dtype=float32)>"
      ]
     },
     "execution_count": 2,
     "metadata": {},
     "output_type": "execute_result"
    }
   ],
   "source": [
    "random_tensor = tf.random.normal([5,5],mean=2)\n",
    "\n",
    "random_tensor"
   ]
  },
  {
   "cell_type": "markdown",
   "metadata": {},
   "source": [
    "shape (5,5) list bil prima"
   ]
  },
  {
   "cell_type": "code",
   "execution_count": 3,
   "metadata": {},
   "outputs": [
    {
     "name": "stdout",
     "output_type": "stream",
     "text": [
      "tf.Tensor(\n",
      "[[ 2.  3.  5.  7. 11.]\n",
      " [13. 17. 19. 23. 29.]\n",
      " [31. 37. 41. 43. 47.]\n",
      " [53. 59. 61. 67. 71.]\n",
      " [73. 79. 83. 89. 97.]], shape=(5, 5), dtype=float32)\n"
     ]
    }
   ],
   "source": [
    "prime_tensor=tf.constant ([[2,3,5,7,11],[13,17,19,23,29],[31,37,41,43,47],[53,59,61,67,71],[73,79,83,89,97]],dtype=tf.float32)\n",
    "\n",
    "print(prime_tensor)"
   ]
  },
  {
   "cell_type": "markdown",
   "metadata": {},
   "source": [
    "var random tensor"
   ]
  },
  {
   "cell_type": "code",
   "execution_count": 4,
   "metadata": {},
   "outputs": [
    {
     "data": {
      "text/plain": [
       "TensorShape([5, 5])"
      ]
     },
     "execution_count": 4,
     "metadata": {},
     "output_type": "execute_result"
    }
   ],
   "source": [
    "random_tensor.get_shape()"
   ]
  },
  {
   "cell_type": "markdown",
   "metadata": {},
   "source": [
    "var prime_tensor"
   ]
  },
  {
   "cell_type": "code",
   "execution_count": 5,
   "metadata": {},
   "outputs": [
    {
     "data": {
      "text/plain": [
       "array([5, 5])"
      ]
     },
     "execution_count": 5,
     "metadata": {},
     "output_type": "execute_result"
    }
   ],
   "source": [
    "tf.shape(prime_tensor).numpy()"
   ]
  },
  {
   "cell_type": "markdown",
   "metadata": {},
   "source": [
    "penjumlahan"
   ]
  },
  {
   "cell_type": "code",
   "execution_count": 6,
   "metadata": {},
   "outputs": [
    {
     "name": "stdout",
     "output_type": "stream",
     "text": [
      "tf.Tensor(\n",
      "[[ 5.3384104  4.221931   7.103507   9.172377  13.772706 ]\n",
      " [15.936151  18.120562  19.897966  23.728056  32.515038 ]\n",
      " [33.86843   37.819965  44.08538   44.815784  48.952686 ]\n",
      " [55.088318  60.689327  62.977207  69.474014  73.92918  ]\n",
      " [75.612015  82.137344  86.02142   91.2815    99.2644   ]], shape=(5, 5), dtype=float32)\n"
     ]
    }
   ],
   "source": [
    "print(tf.add(random_tensor, prime_tensor))"
   ]
  },
  {
   "cell_type": "markdown",
   "metadata": {},
   "source": [
    "pengurangan\n"
   ]
  },
  {
   "cell_type": "code",
   "execution_count": 7,
   "metadata": {},
   "outputs": [
    {
     "name": "stdout",
     "output_type": "stream",
     "text": [
      "tf.Tensor(\n",
      "[[  1.3384104  -1.778069   -2.8964927  -4.8276234  -8.227294 ]\n",
      " [-10.063849  -15.879437  -18.102034  -22.271944  -25.484964 ]\n",
      " [-28.131569  -36.180035  -37.91462   -41.184216  -45.047314 ]\n",
      " [-50.911682  -57.310673  -59.022793  -64.525986  -68.07082  ]\n",
      " [-70.387985  -75.862656  -79.97858   -86.7185    -94.7356   ]], shape=(5, 5), dtype=float32)\n"
     ]
    }
   ],
   "source": [
    "print(tf.subtract(random_tensor, prime_tensor))"
   ]
  },
  {
   "cell_type": "markdown",
   "metadata": {},
   "source": [
    "perkalian"
   ]
  },
  {
   "cell_type": "code",
   "execution_count": 8,
   "metadata": {},
   "outputs": [
    {
     "name": "stdout",
     "output_type": "stream",
     "text": [
      "tf.Tensor(\n",
      "[[  6.6768208   3.665793   10.517536   15.206638   30.499767 ]\n",
      " [ 38.169956   19.049559   17.061363   16.745285  101.93605  ]\n",
      " [ 88.921394   30.33878   126.50068    78.07875    91.77619  ]\n",
      " [110.68085    99.67031   120.60963   165.75911   207.97159  ]\n",
      " [190.67688   247.85014   250.77809   203.05385   219.64613  ]], shape=(5, 5), dtype=float32)\n"
     ]
    }
   ],
   "source": [
    "print(tf.multiply(random_tensor, prime_tensor))"
   ]
  },
  {
   "cell_type": "markdown",
   "metadata": {},
   "source": [
    "pembagian"
   ]
  },
  {
   "cell_type": "code",
   "execution_count": 9,
   "metadata": {},
   "outputs": [
    {
     "name": "stdout",
     "output_type": "stream",
     "text": [
      "tf.Tensor(\n",
      "[[1.6692052  0.40731034 0.42070144 0.31033954 0.2520642 ]\n",
      " [0.22585773 0.06591543 0.04726139 0.0316546  0.12120815]\n",
      " [0.09253006 0.02216127 0.07525323 0.04222756 0.04154649]\n",
      " [0.03940222 0.02863267 0.03241323 0.03692562 0.04125602]\n",
      " [0.03578099 0.03971321 0.03640268 0.02563488 0.02334426]], shape=(5, 5), dtype=float32)\n"
     ]
    }
   ],
   "source": [
    "print(tf.divide(random_tensor, prime_tensor))"
   ]
  },
  {
   "cell_type": "markdown",
   "metadata": {},
   "source": [
    "perpangkatan"
   ]
  },
  {
   "cell_type": "code",
   "execution_count": 10,
   "metadata": {},
   "outputs": [
    {
     "name": "stdout",
     "output_type": "stream",
     "text": [
      "tf.Tensor(\n",
      "[[1.1144984e+01 1.8244839e+00 4.1183201e+01 2.2832118e+02 7.4463266e+04]\n",
      " [1.2053639e+06 6.9248796e+00 1.2940247e-01 6.7575270e-04 6.7914852e+15]\n",
      " [1.5380892e+14 6.4634811e-04 1.1525752e+20 1.3796519e+11 4.5678613e+13]\n",
      " [8.8965179e+16 2.7234232e+13 1.1459872e+18 2.2802140e+26 1.3770246e+33]\n",
      " [2.7490907e+30           inf           inf 7.6153250e+31 2.6935600e+34]], shape=(5, 5), dtype=float32)\n"
     ]
    }
   ],
   "source": [
    "print(tf.pow(random_tensor, prime_tensor))"
   ]
  },
  {
   "cell_type": "markdown",
   "metadata": {},
   "source": [
    "logaritma"
   ]
  },
  {
   "cell_type": "code",
   "execution_count": 11,
   "metadata": {},
   "outputs": [
    {
     "name": "stdout",
     "output_type": "stream",
     "text": [
      "tf.Tensor(\n",
      "[[ 1.2054948   0.20043238  0.7436061   0.7758219   1.0198238 ]\n",
      " [ 1.0770993   0.11383062 -0.1076225  -0.3173775   1.2570499 ]\n",
      " [ 1.0537655  -0.19849114  1.1266756   0.59651786  0.66920537]\n",
      " [ 0.7363589   0.52433044  0.6816852   0.905843    1.0747216 ]\n",
      " [ 0.9601209   1.1433765   1.1057279   0.8248348   0.81730676]], shape=(5, 5), dtype=float32)\n"
     ]
    }
   ],
   "source": [
    "print(tf.math.log(random_tensor, prime_tensor))"
   ]
  },
  {
   "cell_type": "markdown",
   "metadata": {},
   "source": [
    "maksimum"
   ]
  },
  {
   "cell_type": "code",
   "execution_count": 12,
   "metadata": {},
   "outputs": [
    {
     "name": "stdout",
     "output_type": "stream",
     "text": [
      "Nilai maximum berdasarkan kolom: [0 4 2 3 1]\n",
      "Nilai maximum berdasarkan baris: [0 4 2 4 1]\n"
     ]
    }
   ],
   "source": [
    "maxkolom = tf.argmax(random_tensor, axis=0)\n",
    "maxbaris = tf.argmax(random_tensor, axis=1)\n",
    "print(\"Nilai maximum berdasarkan kolom:\",maxkolom.numpy())\n",
    "print(\"Nilai maximum berdasarkan baris:\",maxbaris.numpy())"
   ]
  },
  {
   "cell_type": "markdown",
   "metadata": {},
   "source": [
    "minimum"
   ]
  },
  {
   "cell_type": "code",
   "execution_count": 13,
   "metadata": {},
   "outputs": [
    {
     "name": "stdout",
     "output_type": "stream",
     "text": [
      "Nilai minimum berdasarkan kolom: [3 2 1 1 2]\n",
      "Nilai minimum berdasarkan baris: [1 3 1 1 4]\n"
     ]
    }
   ],
   "source": [
    "minkolom = tf.argmin(random_tensor, axis=0)\n",
    "minbaris = tf.argmin(random_tensor, axis=1)\n",
    "print(\"Nilai minimum berdasarkan kolom:\",minkolom.numpy())\n",
    "print(\"Nilai minimum berdasarkan baris:\",minbaris.numpy())"
   ]
  },
  {
   "cell_type": "markdown",
   "metadata": {},
   "source": [
    "concenation"
   ]
  },
  {
   "cell_type": "code",
   "execution_count": 14,
   "metadata": {},
   "outputs": [
    {
     "name": "stdout",
     "output_type": "stream",
     "text": [
      "sizes original data: (5, 5) (5, 5)\n",
      "size  data yang sudah  concenation: (10, 5)\n"
     ]
    }
   ],
   "source": [
    "concat_rt = (random_tensor)\n",
    "concat_pt = (prime_tensor)\n",
    "print(\"sizes original data:\",concat_rt.shape,concat_pt.shape)\n",
    "concat_rt = tf.concat([concat_rt,concat_pt],axis=0)\n",
    "print(\"size  data yang sudah  concenation:\",concat_rt.shape)"
   ]
  },
  {
   "cell_type": "markdown",
   "metadata": {},
   "source": [
    "random tensor"
   ]
  },
  {
   "cell_type": "code",
   "execution_count": 15,
   "metadata": {},
   "outputs": [
    {
     "name": "stdout",
     "output_type": "stream",
     "text": [
      "urutan random_tensor  secara descending :\n",
      "tf.Tensor(\n",
      "[[3.3384104  2.772706   2.1723769  2.1035073  1.221931  ]\n",
      " [3.5150363  2.9361506  1.1205623  0.8979665  0.72805583]\n",
      " [3.0853825  2.868432   1.952685   1.8157849  0.81996703]\n",
      " [2.9291773  2.4740167  2.0883179  1.977207   1.6893274 ]\n",
      " [3.1373436  3.0214229  2.6120121  2.281504   2.264393  ]], shape=(5, 5), dtype=float32)\n"
     ]
    }
   ],
   "source": [
    "sorting = tf.sort(random_tensor, direction=\"DESCENDING\")\n",
    "print('urutan random_tensor  secara descending :')\n",
    "print(sorting)"
   ]
  },
  {
   "cell_type": "markdown",
   "metadata": {},
   "source": [
    "prime_tensor"
   ]
  },
  {
   "cell_type": "code",
   "execution_count": 16,
   "metadata": {},
   "outputs": [
    {
     "name": "stdout",
     "output_type": "stream",
     "text": [
      "urutan prime_tensor  secara descending :\n",
      "tf.Tensor(\n",
      "[[11.  7.  5.  3.  2.]\n",
      " [29. 23. 19. 17. 13.]\n",
      " [47. 43. 41. 37. 31.]\n",
      " [71. 67. 61. 59. 53.]\n",
      " [97. 89. 83. 79. 73.]], shape=(5, 5), dtype=float32)\n"
     ]
    }
   ],
   "source": [
    "sorting = tf.sort(prime_tensor, direction=\"DESCENDING\")\n",
    "print('urutan prime_tensor  secara descending :')\n",
    "print(sorting)"
   ]
  }
 ],
 "metadata": {
  "kernelspec": {
   "display_name": "Python 3.9.5 64-bit",
   "language": "python",
   "name": "python3"
  },
  "language_info": {
   "codemirror_mode": {
    "name": "ipython",
    "version": 3
   },
   "file_extension": ".py",
   "mimetype": "text/x-python",
   "name": "python",
   "nbconvert_exporter": "python",
   "pygments_lexer": "ipython3",
   "version": "3.9.5"
  },
  "orig_nbformat": 4,
  "vscode": {
   "interpreter": {
    "hash": "cf92aa13fedf815d5c8dd192b8d835913fde3e8bc926b2a0ad6cc74ef2ba3ca2"
   }
  }
 },
 "nbformat": 4,
 "nbformat_minor": 2
}
